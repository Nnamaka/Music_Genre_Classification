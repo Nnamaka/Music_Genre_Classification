{
  "nbformat": 4,
  "nbformat_minor": 0,
  "metadata": {
    "colab": {
      "name": "music_classificatio.ipynb",
      "provenance": [],
      "authorship_tag": "ABX9TyOBiYsqm8rpmR/4RXVfYxYn",
      "include_colab_link": true
    },
    "kernelspec": {
      "name": "python3",
      "display_name": "Python 3"
    },
    "language_info": {
      "name": "python"
    }
  },
  "cells": [
    {
      "cell_type": "markdown",
      "metadata": {
        "id": "view-in-github",
        "colab_type": "text"
      },
      "source": [
        "<a href=\"https://colab.research.google.com/github/Nnamaka/Music_Genre_Classification/blob/main/music_classificatio.ipynb\" target=\"_parent\"><img src=\"https://colab.research.google.com/assets/colab-badge.svg\" alt=\"Open In Colab\"/></a>"
      ]
    },
    {
      "cell_type": "markdown",
      "source": [
        "#Music Classification"
      ],
      "metadata": {
        "id": "3dmnCmfH0_yk"
      }
    },
    {
      "cell_type": "code",
      "source": [
        "# mount your google drive in the current notebook\n",
        "from google.colab import drive\n",
        "drive.mount('/content/gdrive', force_remount=True)"
      ],
      "metadata": {
        "id": "ipZfCQSw1ELu"
      },
      "execution_count": null,
      "outputs": []
    },
    {
      "cell_type": "code",
      "source": [
        "import os\n",
        "os.environ['KAGGLE_CONFIG_DIR'] = \"/content/gdrive/My Drive/Kaggle/cs\""
      ],
      "metadata": {
        "id": "IPJ-pYDM2z5q"
      },
      "execution_count": null,
      "outputs": []
    },
    {
      "cell_type": "code",
      "source": [
        "# download the ecommerce-data dataset from kaggle\n",
        "\n",
        "!kaggle datasets download -d andradaolteanu/gtzan-dataset-music-genre-classification"
      ],
      "metadata": {
        "id": "7u1FBGc028z8"
      },
      "execution_count": null,
      "outputs": []
    },
    {
      "cell_type": "code",
      "source": [
        "%cd ML_with_TF/"
      ],
      "metadata": {
        "id": "M0yUHolL3qIh"
      },
      "execution_count": null,
      "outputs": []
    }
  ]
}