{
  "nbformat": 4,
  "nbformat_minor": 0,
  "metadata": {
    "colab": {
      "name": "music_classificatio.ipynb",
      "provenance": [],
      "authorship_tag": "ABX9TyO8OrNj5MZsT0MUrwxOdPFu",
      "include_colab_link": true
    },
    "kernelspec": {
      "name": "python3",
      "display_name": "Python 3"
    },
    "language_info": {
      "name": "python"
    }
  },
  "cells": [
    {
      "cell_type": "markdown",
      "metadata": {
        "id": "view-in-github",
        "colab_type": "text"
      },
      "source": [
        "<a href=\"https://colab.research.google.com/github/Nnamaka/Music_Genre_Classification/blob/main/music_classificatio.ipynb\" target=\"_parent\"><img src=\"https://colab.research.google.com/assets/colab-badge.svg\" alt=\"Open In Colab\"/></a>"
      ]
    },
    {
      "cell_type": "markdown",
      "source": [
        "#Music Genre Classification"
      ],
      "metadata": {
        "id": "3dmnCmfH0_yk"
      }
    },
    {
      "cell_type": "code",
      "source": [
        "# mount your google drive in the current notebook\n",
        "from google.colab import drive\n",
        "drive.mount('/content/gdrive', force_remount=True)"
      ],
      "metadata": {
        "colab": {
          "base_uri": "https://localhost:8080/"
        },
        "id": "ipZfCQSw1ELu",
        "outputId": "67d11f35-0a8a-4cb1-8a7d-48e4b41861d7"
      },
      "execution_count": 1,
      "outputs": [
        {
          "output_type": "stream",
          "name": "stdout",
          "text": [
            "Mounted at /content/gdrive\n"
          ]
        }
      ]
    },
    {
      "cell_type": "code",
      "source": [
        "import os\n",
        "os.environ['KAGGLE_CONFIG_DIR'] = \"/content/gdrive/My Drive/Kaggle/cs\""
      ],
      "metadata": {
        "id": "IPJ-pYDM2z5q"
      },
      "execution_count": 2,
      "outputs": []
    },
    {
      "cell_type": "code",
      "source": [
        "%cd /content/gdrive/My Drive/Kaggle/cs\n",
        "!pwd"
      ],
      "metadata": {
        "id": "JLLzrUi5TBC7",
        "outputId": "6e3dd021-ee8e-49ab-a6b4-9bafee536fa9",
        "colab": {
          "base_uri": "https://localhost:8080/"
        }
      },
      "execution_count": 4,
      "outputs": [
        {
          "output_type": "stream",
          "name": "stdout",
          "text": [
            "/content/gdrive/My Drive/Kaggle/cs\n",
            "/content/gdrive/My Drive/Kaggle/cs\n"
          ]
        }
      ]
    },
    {
      "cell_type": "markdown",
      "source": [
        "Download the \"gtzan-dataset-music-genre-classification\" dataset from kaggle. To keep running the code and downloading the dataset over and over again, I commented out the line of code for downloading the dataset right after downloading the dataset"
      ],
      "metadata": {
        "id": "NQV93Bx_USta"
      }
    },
    {
      "cell_type": "code",
      "source": [
        "\n",
        "#!kaggle datasets download -d andradaolteanu/gtzan-dataset-music-genre-classification"
      ],
      "metadata": {
        "colab": {
          "base_uri": "https://localhost:8080/"
        },
        "id": "7u1FBGc028z8",
        "outputId": "ed9a2328-b415-4847-bae5-d3dde6dde9a9"
      },
      "execution_count": 5,
      "outputs": [
        {
          "output_type": "stream",
          "name": "stdout",
          "text": [
            "Downloading gtzan-dataset-music-genre-classification.zip to /content/gdrive/My Drive/Kaggle/cs\n",
            " 99% 1.20G/1.21G [00:12<00:00, 117MB/s]\n",
            "100% 1.21G/1.21G [00:12<00:00, 107MB/s]\n"
          ]
        }
      ]
    },
    {
      "cell_type": "markdown",
      "source": [
        "Now unzip the zip file from kaggle right into the current directory. Note: I had to navigate into the google drive file directory where I want the dataset downloaded"
      ],
      "metadata": {
        "id": "amQNWOlIU3oN"
      }
    },
    {
      "cell_type": "code",
      "source": [
        "\n",
        "#!unzip \\*.zip && rm *.zip"
      ],
      "metadata": {
        "id": "jGpXBTt4T8Hd"
      },
      "execution_count": null,
      "outputs": []
    },
    {
      "cell_type": "code",
      "source": [
        "\n",
        "%cd ML_with_TF/"
      ],
      "metadata": {
        "id": "M0yUHolL3qIh"
      },
      "execution_count": null,
      "outputs": []
    }
  ]
}